{
 "cells": [
  {
   "cell_type": "markdown",
   "id": "2a767542",
   "metadata": {},
   "source": [
    "# Overview"
   ]
  },
  {
   "cell_type": "code",
   "execution_count": null,
   "id": "211ade71",
   "metadata": {},
   "outputs": [],
   "source": [
    "library(reticulate)"
   ]
  },
  {
   "cell_type": "code",
   "execution_count": null,
   "id": "aa3b5859",
   "metadata": {},
   "outputs": [],
   "source": [
    "sklearn <- import(\"sklearn\")\n",
    "datasets <- import(\"sktime.datasets\")"
   ]
  },
  {
   "cell_type": "markdown",
   "id": "58f340a6",
   "metadata": {},
   "source": [
    "# Prepare data"
   ]
  },
  {
   "cell_type": "markdown",
   "id": "3f856735",
   "metadata": {},
   "source": [
    "### Load dataset"
   ]
  },
  {
   "cell_type": "code",
   "execution_count": null,
   "id": "0d747dfb",
   "metadata": {},
   "outputs": [],
   "source": [
    "arrow_head <- datasets$load_basic_motions(split=\"train\", return_X_y=TRUE)"
   ]
  },
  {
   "cell_type": "code",
   "execution_count": null,
   "id": "65d32249",
   "metadata": {},
   "outputs": [],
   "source": [
    "x_train <- arrow_head[[1]]\n",
    "y_train <- arrow_head[[2]]"
   ]
  },
  {
   "cell_type": "markdown",
   "id": "bad08f5e",
   "metadata": {},
   "source": [
    "### Truncate some of the time series in order to complicate the problem\n",
    "\n",
    "- 33.(3)% of sequences left at 100% length\n",
    "- 33.(3)% of sequences truncated to 85% length\n",
    "- 33.(3)% of sequences truncated to 75% length"
   ]
  },
  {
   "cell_type": "code",
   "execution_count": null,
   "id": "30312130",
   "metadata": {
    "scrolled": false
   },
   "outputs": [],
   "source": [
    "time_series_count = length(x_train[[1]])            # number of time series in the dataset\n",
    "time_series_length = length(x_train[1,][[1]][[1]])  # number of observations in each time serie\n",
    "time_series_dims = length(x_train[1,])              # number of dimensions of each time serie\n",
    "\n",
    "first_index = 1                                     # index of first element of time series with 100% length\n",
    "second_index = ceiling(time_series_count / 3)       # index of first element of time series with 75% length\n",
    "third_index = ceiling(2 * time_series_count / 3)    # index of first element of time series with 50% length\n",
    "\n",
    "mask = 0 : (time_series_length - 1)\n",
    "for (i in first_index : (second_index - 1))\n",
    "    for (j in 1 : time_series_dims)\n",
    "        x_train[i,][[j]][[1]] = x_train[i,][[j]][[1]][mask]\n",
    "\n",
    "mask = sort(sample(0 : (time_series_length - 1), ceiling(85 * time_series_length / 100))) \n",
    "for (i in second_index : (third_index - 1))\n",
    "    for (j in 1 : time_series_dims)\n",
    "        x_train[i,][[j]][[1]] = x_train[i,][[j]][[1]][mask]\n",
    "\n",
    "    \n",
    "mask = sort(sample(0 : (time_series_length - 1), ceiling(75 * time_series_length / 100)))\n",
    "for (i in third_index : time_series_count)\n",
    "    for (j in 1 : time_series_dims) \n",
    "        x_train[i,][[j]][[1]] = x_train[i,][[j]][[1]][mask]"
   ]
  },
  {
   "cell_type": "markdown",
   "id": "e2c6e465",
   "metadata": {},
   "source": [
    "# ROCKET"
   ]
  },
  {
   "cell_type": "markdown",
   "id": "0f54b0f9",
   "metadata": {},
   "source": [
    "### Standarize time series length by repeating observations"
   ]
  },
  {
   "cell_type": "code",
   "execution_count": null,
   "id": "3ea0e838",
   "metadata": {},
   "outputs": [],
   "source": [
    "fix_length <- function(x, expected_length) {\n",
    "    current_length = length(x)\n",
    "    \n",
    "    if (current_length != expected_length) {\n",
    "        x_args = strtoi(stringr::str_trim(names(x)), 10)\n",
    "        y_args = as.vector(x)\n",
    "        return(approx(x_args, y_args, 0:99)$y)\n",
    "    }\n",
    "    \n",
    "    return(x)\n",
    "}"
   ]
  },
  {
   "cell_type": "code",
   "execution_count": null,
   "id": "bd3a682c",
   "metadata": {
    "scrolled": true
   },
   "outputs": [],
   "source": [
    "max_time_series_length = max(lengths(x_train[[1]]))\n",
    "time_series_count = length(x_train[[1]])\n",
    "time_series_dims = length(x_train[1,])\n",
    "\n",
    "for (i in 1 : time_series_count)\n",
    "    for (j in 1 : time_series_dims)\n",
    "        x_train[i,][[j]][[1]] = fix_length(x_train[i,][[j]][[1]], max_time_series_length)\n",
    "\n",
    "\n",
    "\n"
   ]
  },
  {
   "cell_type": "code",
   "execution_count": null,
   "id": "449408ea",
   "metadata": {},
   "outputs": [],
   "source": [
    "lengths(x_train[[1]])"
   ]
  },
  {
   "cell_type": "code",
   "execution_count": null,
   "id": "c4043757",
   "metadata": {},
   "outputs": [],
   "source": [
    "utils <- import(\"sktime.utils.validation.panel\")\n",
    "a = utils$check_X(x_train, coerce_to_numpy=TRUE)\n"
   ]
  },
  {
   "cell_type": "code",
   "execution_count": null,
   "id": "3106178c",
   "metadata": {},
   "outputs": [],
   "source": [
    "##sample\n",
    "\n",
    "set.seed(5)\n",
    "num_kernels = 20000 # default value\n",
    "\n",
    "\n",
    "timepoints = ncol(x_train)\n",
    "columns = nrow(x_train)\n"
   ]
  }
 ],
 "metadata": {
  "kernelspec": {
   "display_name": "R",
   "language": "R",
   "name": "ir"
  },
  "language_info": {
   "codemirror_mode": "r",
   "file_extension": ".r",
   "mimetype": "text/x-r-source",
   "name": "R",
   "pygments_lexer": "r",
   "version": "4.1.2"
  }
 },
 "nbformat": 4,
 "nbformat_minor": 5
}
