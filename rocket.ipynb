{
 "cells": [
  {
   "cell_type": "markdown",
   "id": "2a767542",
   "metadata": {},
   "source": [
    "# Overview"
   ]
  },
  {
   "cell_type": "code",
   "execution_count": 1,
   "id": "211ade71",
   "metadata": {},
   "outputs": [],
   "source": [
    "library(reticulate)"
   ]
  },
  {
   "cell_type": "code",
   "execution_count": null,
   "id": "981e37a3",
   "metadata": {},
   "outputs": [],
   "source": []
  },
  {
   "cell_type": "code",
   "execution_count": 2,
   "id": "aa3b5859",
   "metadata": {},
   "outputs": [],
   "source": [
    "sklearn <- import(\"sklearn\")\n",
    "datasets <- import(\"sktime.datasets\")\n",
    "np <- import(\"numpy\")"
   ]
  },
  {
   "cell_type": "markdown",
   "id": "58f340a6",
   "metadata": {},
   "source": [
    "# Prepare data"
   ]
  },
  {
   "cell_type": "markdown",
   "id": "3f856735",
   "metadata": {},
   "source": [
    "### Load dataset"
   ]
  },
  {
   "cell_type": "code",
   "execution_count": 25,
   "id": "0d747dfb",
   "metadata": {},
   "outputs": [],
   "source": [
    "arrow_head <- datasets$load_basic_motions(split=\"train\", return_X_y=TRUE)"
   ]
  },
  {
   "cell_type": "code",
   "execution_count": 26,
   "id": "65d32249",
   "metadata": {},
   "outputs": [],
   "source": [
    "x_train <- arrow_head[[1]]\n",
    "y_train <- arrow_head[[2]]"
   ]
  },
  {
   "cell_type": "markdown",
   "id": "bad08f5e",
   "metadata": {},
   "source": [
    "### Truncate some of the time series in order to complicate the problem\n",
    "\n",
    "- 33.(3)% of sequences left at 50% length\n",
    "- 33.(3)% of sequences truncated to 40% length\n",
    "- 33.(3)% of sequences truncated to 30% length\n",
    "\n",
    "#### In order to ensure that all classes are treated equally stratyfikacja"
   ]
  },
  {
   "cell_type": "code",
   "execution_count": 21,
   "id": "30312130",
   "metadata": {
    "scrolled": false
   },
   "outputs": [],
   "source": [
    "time_series_count = length(x_train[[1]])            # number of time series in the dataset\n",
    "time_series_length = length(x_train[1,][[1]][[1]])  # number of observations in each time serie\n",
    "time_series_dims = length(x_train[1,])              # number of dimensions of each time serie\n",
    "\n",
    "first_index = 1                                     # index of first element of time series with 100% length\n",
    "second_index = ceiling(time_series_count / 3)       # index of first element of time series with 75% length\n",
    "third_index = ceiling(2 * time_series_count / 3)    # index of first element of time series with 50% length\n",
    "\n",
    "mask = 0 : (time_series_length - 1)\n",
    "for (i in first_index : (second_index - 1))\n",
    "    for (j in 1 : time_series_dims)\n",
    "        x_train[i,][[j]][[1]] = x_train[i,][[j]][[1]][mask]\n",
    "\n",
    "mask = sort(sample(0 : (time_series_length - 1), ceiling(85 * time_series_length / 100))) \n",
    "for (i in second_index : (third_index - 1))\n",
    "    for (j in 1 : time_series_dims)\n",
    "        x_train[i,][[j]][[1]] = x_train[i,][[j]][[1]][mask]\n",
    "\n",
    "    \n",
    "mask = sort(sample(0 : (time_series_length - 1), ceiling(75 * time_series_length / 100)))\n",
    "for (i in third_index : time_series_count)\n",
    "    for (j in 1 : time_series_dims) \n",
    "        x_train[i,][[j]][[1]] = x_train[i,][[j]][[1]][mask]"
   ]
  },
  {
   "cell_type": "markdown",
   "id": "e2c6e465",
   "metadata": {},
   "source": [
    "# ROCKET"
   ]
  },
  {
   "cell_type": "markdown",
   "id": "0f54b0f9",
   "metadata": {},
   "source": [
    "### Standarize time series length by repeating observations"
   ]
  },
  {
   "cell_type": "code",
   "execution_count": 22,
   "id": "3ea0e838",
   "metadata": {},
   "outputs": [],
   "source": [
    "fix_length <- function(x, expected_length) {\n",
    "    current_length = length(x)\n",
    "    \n",
    "    if (current_length != expected_length) {\n",
    "        x_args = strtoi(stringr::str_trim(names(x)), 10)\n",
    "        y_args = as.vector(x)\n",
    "        return(approx(x_args, y_args, 0:(expected_length - 1))$y)\n",
    "    }\n",
    "    \n",
    "    return(x)\n",
    "}"
   ]
  },
  {
   "cell_type": "code",
   "execution_count": 23,
   "id": "bd3a682c",
   "metadata": {
    "scrolled": true
   },
   "outputs": [],
   "source": [
    "max_time_series_length = time_series_length\n",
    "time_series_count = length(x_train[[1]])\n",
    "time_series_dims = length(x_train[1,])\n",
    "\n",
    "for (i in 1 : time_series_count)\n",
    "    for (j in 1 : time_series_dims)\n",
    "        x_train[i,][[j]][[1]] = fix_length(x_train[i,][[j]][[1]], max_time_series_length)"
   ]
  },
  {
   "cell_type": "code",
   "execution_count": 24,
   "id": "c4043757",
   "metadata": {},
   "outputs": [],
   "source": [
    "utils <- import(\"sktime.utils.validation.panel\")\n",
    "x_train = utils$check_X(x_train, coerce_to_numpy=TRUE)"
   ]
  },
  {
   "cell_type": "markdown",
   "id": "636f0609",
   "metadata": {},
   "source": [
    "### Generate kernels"
   ]
  },
  {
   "cell_type": "code",
   "execution_count": null,
   "id": "077a58bd",
   "metadata": {},
   "outputs": [],
   "source": []
  },
  {
   "cell_type": "code",
   "execution_count": null,
   "id": "55a02431",
   "metadata": {},
   "outputs": [],
   "source": []
  },
  {
   "cell_type": "code",
   "execution_count": null,
   "id": "8e8cf09e",
   "metadata": {},
   "outputs": [],
   "source": []
  },
  {
   "cell_type": "code",
   "execution_count": null,
   "id": "16da8380",
   "metadata": {},
   "outputs": [],
   "source": []
  },
  {
   "cell_type": "code",
   "execution_count": 39,
   "id": "45539593",
   "metadata": {},
   "outputs": [],
   "source": [
    "arrow_head <- datasets$load_basic_motions(split=\"train\", return_X_y=TRUE)\n",
    "x_train <- arrow_head[[1]]\n",
    "y_train <- arrow_head[[2]]\n",
    "utils <- import(\"sktime.utils.validation.panel\")\n",
    "x_train = utils$check_X(x_train, coerce_to_numpy=TRUE)\n",
    "\n",
    "\n"
   ]
  },
  {
   "cell_type": "code",
   "execution_count": 40,
   "id": "85c29d8d",
   "metadata": {},
   "outputs": [],
   "source": [
    "for(i in 1 : dim(x_train)[1])\n",
    "    for (o in 1 : dim(x_train)[2]) {\n",
    "        x_train[i,o,] = (x_train[i,o,] - mean(x_train[i,o,])) / sd(x_train[i,o,]) + 1e-8 \n",
    "    }"
   ]
  },
  {
   "cell_type": "code",
   "execution_count": 41,
   "id": "3106178c",
   "metadata": {},
   "outputs": [],
   "source": [
    "set.seed(5)\n",
    "num_kernels = 10000 # default value\n",
    "\n",
    "num_columns = dim(x_train)[2]\n",
    "num_timepoints = dim(x_train)[3]\n",
    "\n",
    "lengths = array(as.integer(sample(c(7, 9, 11), num_kernels, replace = TRUE)))\n",
    "\n",
    "limit = pmin(num_columns, lengths)\n",
    "\n",
    "num_channel_indices = as.integer(2 ** np$random$uniform(0, log2(limit + 1)))\n",
    "\n",
    "channel_indices = as.integer(rep(0, sum(num_channel_indices)))\n",
    "\n",
    "weights = as.double(rep(0, sum(lengths * num_channel_indices)))\n",
    "\n",
    "biases = array(as.double(rep(0, num_kernels)))\n",
    "dilations = array(as.integer(rep(0, num_kernels)))\n",
    "paddings = array(as.integer(rep(0, num_kernels)))\n",
    "\n",
    "a1 = 1  # for weights\n",
    "a2 = 1  # for channel_indices\n",
    "\n",
    "for (i in 1 : num_kernels) {\n",
    "    temp_length = lengths[i]\n",
    "    temp_num_channel_indices = num_channel_indices[i]\n",
    "\n",
    "    temp_weights = as.double(np$random$normal(0, 1, temp_num_channel_indices * temp_length))\n",
    "\n",
    "    b1 = a1 + (temp_num_channel_indices * temp_length) - 1 \n",
    "    b2 = a2 + temp_num_channel_indices - 1\n",
    "\n",
    "    a3 = 1 # for weights (per channel)\n",
    "    for (j in 1 : temp_num_channel_indices) {\n",
    "        b3 = a3 + temp_length - 1\n",
    "        temp_weights[a3 : b3] = temp_weights[a3 : b3] - mean(temp_weights[a3 : b3])\n",
    "        a3 = b3 + 1\n",
    "    }\n",
    "        \n",
    "\n",
    "    weights[a1 : b1] = temp_weights\n",
    "\n",
    "    channel_indices[a2 : b2] = sample(0 : (num_columns - 1), temp_num_channel_indices)\n",
    "\n",
    "    biases[i] = np$random$uniform(-1, 1)\n",
    "\n",
    "    dilation = 2 ** np$random$uniform(0, log2((num_timepoints - 1) / (temp_length - 1)))\n",
    "    dilation = as.integer(dilation)\n",
    "    dilations[i] = dilation\n",
    "\n",
    "    if (sample(0 : 1, 1) == 1)\n",
    "        paddings[i] = as.integer(((temp_length - 1) * dilation) / 2)\n",
    "    else paddings[i] = 0\n",
    "\n",
    "    a1 = b1 + 1\n",
    "    a2 = b2 + 1\n",
    "} \n",
    "\n",
    "channel_indices = channel_indices + 1"
   ]
  },
  {
   "cell_type": "markdown",
   "id": "f954efd6",
   "metadata": {},
   "source": [
    "### Transform x_train with created kernels"
   ]
  },
  {
   "cell_type": "markdown",
   "id": "b693aaca",
   "metadata": {},
   "source": [
    "#### Normalize x_train"
   ]
  },
  {
   "cell_type": "code",
   "execution_count": 58,
   "id": "08df13ef",
   "metadata": {},
   "outputs": [],
   "source": []
  },
  {
   "cell_type": "markdown",
   "id": "a41a1b39",
   "metadata": {},
   "source": [
    "#### Transform x_train"
   ]
  },
  {
   "cell_type": "code",
   "execution_count": 42,
   "id": "dc059db3",
   "metadata": {},
   "outputs": [],
   "source": [
    "apply_kernel_multivariate <- function(X, \n",
    "                                      weights, \n",
    "                                      length, \n",
    "                                      bias, \n",
    "                                      dilation, \n",
    "                                      padding, \n",
    "                                      num_channel_indices, \n",
    "                                      channel_indices) {\n",
    "    \n",
    "    num_columns = dim(X)[1]\n",
    "    num_timepoints = dim(X)[2]\n",
    "\n",
    "    output_length = (num_timepoints + (2 * padding)) - ((length - 1) * dilation)\n",
    "\n",
    "    temp_ppv = 0\n",
    "    temp_max = -Inf\n",
    "\n",
    "    end = (num_timepoints + padding) - ((length - 1) * dilation) - 1\n",
    "    \n",
    "    for (i in (-padding + 1) : end) \n",
    "    {\n",
    "        temp_sum = bias\n",
    "\n",
    "        index = i\n",
    "\n",
    "        for (j in 1 : length) {\n",
    "            if (index > 0 && index <= num_timepoints) {\n",
    "                for (k in 1 : num_channel_indices) {\n",
    "                    temp_sum = temp_sum + weights[k, j] * X[channel_indices[k], index]\n",
    "                }\n",
    "                    \n",
    "            }\n",
    "            index = index + dilation\n",
    "        }\n",
    "            \n",
    "        if (temp_sum > temp_max)\n",
    "            temp_max = temp_sum\n",
    "\n",
    "        if (temp_sum > 0)\n",
    "            temp_ppv = temp_ppv + 1 \n",
    "    }\n",
    "    return(c(as.double(temp_ppv / output_length), as.double(temp_max)))\n",
    "}\n",
    "\n",
    "\n",
    "apply_kernel_univariate <- function(X, weights, length, bias, dilation, padding) {\n",
    "    num_timepoints = length(X)\n",
    "\n",
    "    output_length = (num_timepoints + (2 * padding)) - ((length - 1) * dilation)\n",
    "\n",
    "    temp_ppv = 0\n",
    "    temp_max = -Inf\n",
    "\n",
    "    end = (num_timepoints + padding) - ((length - 1) * dilation)\n",
    "\n",
    "    for (i in (-padding + 1) : end) \n",
    "    {\n",
    "        temp_sum = bias\n",
    "\n",
    "        index = i\n",
    "\n",
    "        for (j in 1 : length) {\n",
    "            if (index > 0 && index <= num_timepoints)\n",
    "                temp_sum = temp_sum + weights[j] * X[index]\n",
    "\n",
    "            index = index + dilation\n",
    "\n",
    "        }\n",
    "            \n",
    "        if (temp_sum > temp_max)\n",
    "            temp_max = temp_sum\n",
    "\n",
    "        if (temp_sum > 0)\n",
    "            temp_ppv = temp_ppv + 1\n",
    "    }\n",
    "    return(c(as.double(temp_ppv / output_length), as.double(temp_max)))\n",
    "}\n"
   ]
  },
  {
   "cell_type": "code",
   "execution_count": 43,
   "id": "f570a53d",
   "metadata": {
    "scrolled": true
   },
   "outputs": [],
   "source": [
    "num_instances = dim(x_train)[1]\n",
    "num_columns = dim(x_train)[2]\n",
    "\n",
    "num_kernels = length(lengths)\n",
    "\n",
    "X = matrix(0, num_instances, num_kernels * 2)  # 2 features per kernel\n",
    "\n",
    "for (i in 1 : num_instances) {\n",
    "    a1 = 1  # for weights\n",
    "    a2 = 1  # for channel_indices\n",
    "    a3 = 1  # for features\n",
    "\n",
    "    for (j in 1 : num_kernels)\n",
    "    {\n",
    "        b1 = a1 + num_channel_indices[j] * lengths[j] - 1\n",
    "        b2 = a2 + num_channel_indices[j] - 1\n",
    "        b3 = a3 + 2 - 1\n",
    "        \n",
    "        if (num_channel_indices[j] == 1)\n",
    "        {\n",
    "            \n",
    "            temp_result = apply_kernel_univariate(\n",
    "                x_train[i, channel_indices[a2],],\n",
    "                weights[a1:b1],\n",
    "                lengths[j],\n",
    "                biases[j],\n",
    "                dilations[j],\n",
    "                paddings[j]\n",
    "            ) \n",
    "            X[i, a3] = temp_result[1]\n",
    "            X[i, a3 + 1] = temp_result[2]\n",
    "        }\n",
    "        else\n",
    "        {\n",
    "            temp_weights = matrix(weights[a1 : b1], num_channel_indices[j], lengths[j])\n",
    "\n",
    "            temp_result = apply_kernel_multivariate(\n",
    "                x_train[i,,],\n",
    "                temp_weights,\n",
    "                lengths[j],\n",
    "                biases[j],\n",
    "                dilations[j],\n",
    "                paddings[j],\n",
    "                num_channel_indices[j],\n",
    "                channel_indices[a2:b2]\n",
    "            )\n",
    "            X[i, a3] = temp_result[1]\n",
    "            X[i, a3 + 1] = temp_result[2]\n",
    "        }\n",
    "\n",
    "        a1 = b1 + 1\n",
    "        a2 = b2 + 1\n",
    "        a3 = b3 + 1       \n",
    "    }\n",
    "}\n",
    "\n",
    "\n",
    "result_x = as.data.frame(X)\n",
    "\n"
   ]
  },
  {
   "cell_type": "code",
   "execution_count": 44,
   "id": "775995e3",
   "metadata": {},
   "outputs": [
    {
     "data": {
      "text/plain": [
       "RidgeClassifierCV(alphas=array([1.00000000e-03, 4.64158883e-03, 2.15443469e-02, 1.00000000e-01,\n",
       "       4.64158883e-01, 2.15443469e+00, 1.00000000e+01, 4.64158883e+01,\n",
       "       2.15443469e+02, 1.00000000e+03]),\n",
       "                  normalize=True)"
      ]
     },
     "metadata": {},
     "output_type": "display_data"
    }
   ],
   "source": [
    "linear_model <- import(\"sklearn.linear_model\")\n",
    "\n",
    "\n",
    "classifier = linear_model$RidgeClassifierCV(alphas=pracma::logspace(-3, 3, 10), normalize=TRUE)\n",
    "classifier$fit(result_x, y_train)\n"
   ]
  },
  {
   "cell_type": "code",
   "execution_count": 45,
   "id": "cee34841",
   "metadata": {},
   "outputs": [],
   "source": [
    "arrow_head <- datasets$load_basic_motions(split=\"test\", return_X_y=TRUE)\n",
    "x_test <- arrow_head[[1]]\n",
    "y_test <- arrow_head[[2]]\n",
    "\n",
    "\n",
    "\n",
    "utils <- import(\"sktime.utils.validation.panel\")\n",
    "x_test = utils$check_X(x_test, coerce_to_numpy=TRUE)\n",
    "\n",
    "for(i in 1 : dim(x_test)[1])\n",
    "    for (o in 1 : dim(x_test)[2]) {\n",
    "        x_test[i,o,] = (x_test[i,o,] - mean(x_test[i,o,])) / sd(x_test[i,o,]) + 1e-8 \n",
    "    }\n",
    "\n",
    "num_instances = dim(x_test)[1]\n",
    "num_columns = dim(x_test)[2]\n",
    "\n",
    "num_kernels = length(lengths)\n",
    "\n",
    "X = matrix(0, num_instances, num_kernels * 2)  # 2 features per kernel\n",
    "\n",
    "for (i in 1 : num_instances) {\n",
    "    a1 = 1  # for weights\n",
    "    a2 = 1  # for channel_indices\n",
    "    a3 = 1  # for features\n",
    "\n",
    "    for (j in 1 : num_kernels)\n",
    "    {\n",
    "        b1 = a1 + num_channel_indices[j] * lengths[j] - 1\n",
    "        b2 = a2 + num_channel_indices[j] - 1\n",
    "        b3 = a3 + 2 - 1\n",
    "        \n",
    "        if (num_channel_indices[j] == 1)\n",
    "        {\n",
    "            \n",
    "            temp_result = apply_kernel_univariate(\n",
    "                x_test[i, channel_indices[a2],],\n",
    "                weights[a1:b1],\n",
    "                lengths[j],\n",
    "                biases[j],\n",
    "                dilations[j],\n",
    "                paddings[j]\n",
    "            ) \n",
    "            X[i, a3] = temp_result[1]\n",
    "            X[i, a3 + 1] = temp_result[2]\n",
    "        }\n",
    "        else\n",
    "        {\n",
    "            temp_weights = matrix(weights[a1 : b1], num_channel_indices[j], lengths[j])\n",
    "\n",
    "            temp_result = apply_kernel_multivariate(\n",
    "                x_test[i,,],\n",
    "                temp_weights,\n",
    "                lengths[j],\n",
    "                biases[j],\n",
    "                dilations[j],\n",
    "                paddings[j],\n",
    "                num_channel_indices[j],\n",
    "                channel_indices[a2:b2]\n",
    "            )\n",
    "            X[i, a3] = temp_result[1]\n",
    "            X[i, a3 + 1] = temp_result[2]\n",
    "        }\n",
    "\n",
    "        a1 = b1 + 1\n",
    "        a2 = b2 + 1\n",
    "        a3 = b3 + 1       \n",
    "    }\n",
    "}\n",
    "\n",
    "\n",
    "result_x = as.data.frame(X)\n",
    "\n",
    "\n"
   ]
  },
  {
   "cell_type": "code",
   "execution_count": 46,
   "id": "0465aa65",
   "metadata": {},
   "outputs": [
    {
     "data": {
      "text/html": [
       "1"
      ],
      "text/latex": [
       "1"
      ],
      "text/markdown": [
       "1"
      ],
      "text/plain": [
       "[1] 1"
      ]
     },
     "metadata": {},
     "output_type": "display_data"
    }
   ],
   "source": [
    "classifier$score(result_x, y_test)"
   ]
  },
  {
   "cell_type": "code",
   "execution_count": 47,
   "id": "a37c56d5",
   "metadata": {},
   "outputs": [
    {
     "name": "stdout",
     "output_type": "stream",
     "text": [
      " [1] \"Standing\"  \"Standing\"  \"Standing\"  \"Standing\"  \"Standing\"  \"Standing\" \n",
      " [7] \"Standing\"  \"Standing\"  \"Standing\"  \"Standing\"  \"Running\"   \"Running\"  \n",
      "[13] \"Running\"   \"Running\"   \"Running\"   \"Running\"   \"Running\"   \"Running\"  \n",
      "[19] \"Running\"   \"Running\"   \"Walking\"   \"Walking\"   \"Walking\"   \"Walking\"  \n",
      "[25] \"Walking\"   \"Walking\"   \"Walking\"   \"Walking\"   \"Walking\"   \"Walking\"  \n",
      "[31] \"Badminton\" \"Badminton\" \"Badminton\" \"Badminton\" \"Badminton\" \"Badminton\"\n",
      "[37] \"Badminton\" \"Badminton\" \"Badminton\" \"Badminton\"\n"
     ]
    }
   ],
   "source": [
    "print(y_test)\n"
   ]
  }
 ],
 "metadata": {
  "kernelspec": {
   "display_name": "R",
   "language": "R",
   "name": "ir"
  },
  "language_info": {
   "codemirror_mode": "r",
   "file_extension": ".r",
   "mimetype": "text/x-r-source",
   "name": "R",
   "pygments_lexer": "r",
   "version": "4.1.2"
  }
 },
 "nbformat": 4,
 "nbformat_minor": 5
}
