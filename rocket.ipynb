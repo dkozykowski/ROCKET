{
 "cells": [
  {
   "cell_type": "markdown",
   "id": "2a767542",
   "metadata": {},
   "source": [
    "# Overview"
   ]
  },
  {
   "cell_type": "code",
   "execution_count": 14,
   "id": "211ade71",
   "metadata": {},
   "outputs": [],
   "source": [
    "library(reticulate)"
   ]
  },
  {
   "cell_type": "code",
   "execution_count": 15,
   "id": "aa3b5859",
   "metadata": {},
   "outputs": [],
   "source": [
    "sklearn <- import(\"sklearn\")\n",
    "datasets <- import(\"sktime.datasets\")"
   ]
  },
  {
   "cell_type": "markdown",
   "id": "58f340a6",
   "metadata": {},
   "source": [
    "# Prepare data"
   ]
  },
  {
   "cell_type": "markdown",
   "id": "3f856735",
   "metadata": {},
   "source": [
    "### Load dataset"
   ]
  },
  {
   "cell_type": "code",
   "execution_count": 16,
   "id": "0d747dfb",
   "metadata": {},
   "outputs": [],
   "source": [
    "arrow_head <- datasets$load_basic_motions(split=\"train\", return_X_y=TRUE)"
   ]
  },
  {
   "cell_type": "code",
   "execution_count": 20,
   "id": "65d32249",
   "metadata": {},
   "outputs": [],
   "source": [
    "x_train <- arrow_head[[1]]\n",
    "y_train <- arrow_head[[2]]"
   ]
  },
  {
   "cell_type": "markdown",
   "id": "bad08f5e",
   "metadata": {},
   "source": [
    "### Truncate some of the time series in order to complicate the problem\n",
    "\n",
    "- 33.(3)% of sequences left at 100% length\n",
    "- 33.(3)% of sequences truncated to 85% length\n",
    "- 33.(3)% of sequences truncated to 75% length"
   ]
  },
  {
   "cell_type": "code",
   "execution_count": 21,
   "id": "30312130",
   "metadata": {
    "scrolled": false
   },
   "outputs": [],
   "source": [
    "time_series_count = length(x_train[[1]])            # number of time series in the dataset\n",
    "time_series_length = length(x_train[1,][[1]][[1]])  # number of observations in each time serie\n",
    "time_series_dims = length(x_train[1,])              # number of dimensions of each time serie\n",
    "\n",
    "first_index = 1                                     # index of first element of time series with 100% length\n",
    "second_index = ceiling(time_series_count / 3)       # index of first element of time series with 75% length\n",
    "third_index = ceiling(2 * time_series_count / 3)    # index of first element of time series with 50% length\n",
    "\n",
    "mask = sort(sample(0 : (time_series_length - 1), ceiling(85 * time_series_length / 100)) )    \n",
    "for (i in second_index : (third_index - 1))\n",
    "    for (j in 1 : time_series_dims) \n",
    "        x_train[i,][[j]][[1]] = x_train[i,][[j]][[1]][mask]\n",
    "\n",
    "    \n",
    "mask = sort(sample(0 : (time_series_length - 1), ceiling(75 * time_series_length / 100)))\n",
    "for (i in third_index : time_series_count)\n",
    "    for (j in 1 : time_series_dims) \n",
    "        x_train[i,][[j]][[1]] = x_train[i,][[j]][[1]][mask]"
   ]
  },
  {
   "cell_type": "markdown",
   "id": "866165d8",
   "metadata": {},
   "source": [
    "# ROCKET "
   ]
  },
  {
   "cell_type": "markdown",
   "id": "0f54b0f9",
   "metadata": {},
   "source": [
    "### Standarize time series length by repeating observations"
   ]
  },
  {
   "cell_type": "code",
   "execution_count": 22,
   "id": "bd3a682c",
   "metadata": {},
   "outputs": [
    {
     "data": {
      "text/html": [
       "<style>\n",
       ".list-inline {list-style: none; margin:0; padding: 0}\n",
       ".list-inline>li {display: inline-block}\n",
       ".list-inline>li:not(:last-child)::after {content: \"\\00b7\"; padding: 0 .5ex}\n",
       "</style>\n",
       "<ol class=list-inline><li>100</li><li>100</li><li>100</li><li>100</li><li>100</li><li>100</li><li>100</li><li>100</li><li>100</li><li>100</li><li>100</li><li>100</li><li>100</li><li>85</li><li>85</li><li>85</li><li>85</li><li>85</li><li>85</li><li>85</li><li>85</li><li>85</li><li>85</li><li>85</li><li>85</li><li>85</li><li>75</li><li>75</li><li>75</li><li>75</li><li>75</li><li>75</li><li>75</li><li>75</li><li>75</li><li>75</li><li>75</li><li>75</li><li>75</li><li>75</li></ol>\n"
      ],
      "text/latex": [
       "\\begin{enumerate*}\n",
       "\\item 100\n",
       "\\item 100\n",
       "\\item 100\n",
       "\\item 100\n",
       "\\item 100\n",
       "\\item 100\n",
       "\\item 100\n",
       "\\item 100\n",
       "\\item 100\n",
       "\\item 100\n",
       "\\item 100\n",
       "\\item 100\n",
       "\\item 100\n",
       "\\item 85\n",
       "\\item 85\n",
       "\\item 85\n",
       "\\item 85\n",
       "\\item 85\n",
       "\\item 85\n",
       "\\item 85\n",
       "\\item 85\n",
       "\\item 85\n",
       "\\item 85\n",
       "\\item 85\n",
       "\\item 85\n",
       "\\item 85\n",
       "\\item 75\n",
       "\\item 75\n",
       "\\item 75\n",
       "\\item 75\n",
       "\\item 75\n",
       "\\item 75\n",
       "\\item 75\n",
       "\\item 75\n",
       "\\item 75\n",
       "\\item 75\n",
       "\\item 75\n",
       "\\item 75\n",
       "\\item 75\n",
       "\\item 75\n",
       "\\end{enumerate*}\n"
      ],
      "text/markdown": [
       "1. 100\n",
       "2. 100\n",
       "3. 100\n",
       "4. 100\n",
       "5. 100\n",
       "6. 100\n",
       "7. 100\n",
       "8. 100\n",
       "9. 100\n",
       "10. 100\n",
       "11. 100\n",
       "12. 100\n",
       "13. 100\n",
       "14. 85\n",
       "15. 85\n",
       "16. 85\n",
       "17. 85\n",
       "18. 85\n",
       "19. 85\n",
       "20. 85\n",
       "21. 85\n",
       "22. 85\n",
       "23. 85\n",
       "24. 85\n",
       "25. 85\n",
       "26. 85\n",
       "27. 75\n",
       "28. 75\n",
       "29. 75\n",
       "30. 75\n",
       "31. 75\n",
       "32. 75\n",
       "33. 75\n",
       "34. 75\n",
       "35. 75\n",
       "36. 75\n",
       "37. 75\n",
       "38. 75\n",
       "39. 75\n",
       "40. 75\n",
       "\n",
       "\n"
      ],
      "text/plain": [
       " [1] 100 100 100 100 100 100 100 100 100 100 100 100 100  85  85  85  85  85  85\n",
       "[20]  85  85  85  85  85  85  85  75  75  75  75  75  75  75  75  75  75  75  75\n",
       "[39]  75  75"
      ]
     },
     "metadata": {},
     "output_type": "display_data"
    }
   ],
   "source": [
    "max_time_series_length = max(lengths(x_train[[1]]))"
   ]
  },
  {
   "cell_type": "code",
   "execution_count": null,
   "id": "3106178c",
   "metadata": {},
   "outputs": [],
   "source": []
  },
  {
   "cell_type": "code",
   "execution_count": null,
   "id": "4445867c",
   "metadata": {},
   "outputs": [],
   "source": []
  }
 ],
 "metadata": {
  "kernelspec": {
   "display_name": "R",
   "language": "R",
   "name": "ir"
  },
  "language_info": {
   "codemirror_mode": "r",
   "file_extension": ".r",
   "mimetype": "text/x-r-source",
   "name": "R",
   "pygments_lexer": "r",
   "version": "4.1.2"
  }
 },
 "nbformat": 4,
 "nbformat_minor": 5
}
