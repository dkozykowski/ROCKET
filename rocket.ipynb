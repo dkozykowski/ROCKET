{
 "cells": [
  {
   "cell_type": "markdown",
   "id": "2a767542",
   "metadata": {},
   "source": [
    "# Overview"
   ]
  },
  {
   "cell_type": "code",
   "execution_count": 5,
   "id": "211ade71",
   "metadata": {},
   "outputs": [],
   "source": [
    "library(reticulate)"
   ]
  },
  {
   "cell_type": "code",
   "execution_count": 6,
   "id": "aa3b5859",
   "metadata": {},
   "outputs": [],
   "source": [
    "sklearn <- import(\"sklearn\")\n",
    "datasets <- import(\"sktime.datasets\")"
   ]
  },
  {
   "cell_type": "markdown",
   "id": "58f340a6",
   "metadata": {},
   "source": [
    "# Prepare data"
   ]
  },
  {
   "cell_type": "markdown",
   "id": "3f856735",
   "metadata": {},
   "source": [
    "### Load dataset"
   ]
  },
  {
   "cell_type": "code",
   "execution_count": 15,
   "id": "0d747dfb",
   "metadata": {},
   "outputs": [],
   "source": [
    "arrow_head <- datasets$load_basic_motions(split=\"train\", return_X_y=TRUE)"
   ]
  },
  {
   "cell_type": "code",
   "execution_count": 16,
   "id": "65d32249",
   "metadata": {},
   "outputs": [],
   "source": [
    "x_train <- arrow_head[[1]]\n",
    "y_train <- arrow_head[[2]]"
   ]
  },
  {
   "cell_type": "markdown",
   "id": "bad08f5e",
   "metadata": {},
   "source": [
    "### Truncate some of the time series in order to complicate the problem\n",
    "\n",
    "- 33.(3)% of sequences left at 100% length\n",
    "- 33.(3)% of sequences truncated to 75% length\n",
    "- 33.(3)% of sequences truncated to 50% length"
   ]
  },
  {
   "cell_type": "code",
   "execution_count": 17,
   "id": "30312130",
   "metadata": {
    "scrolled": false
   },
   "outputs": [],
   "source": [
    "time_series_count = length(x_train[[1]])            # number of time series in the dataset\n",
    "time_series_length = length(x_train[1,][[1]][[1]])  # number of observations in each time serie\n",
    "time_series_dims = length(x_train[1,])              # number of dimensions of each time serie\n",
    "\n",
    "first_index = 1                                     # index of first element of time series with 100% length\n",
    "second_index = ceiling(time_series_count / 3)       # index of first element of time series with 75% length\n",
    "third_index = ceiling(2 * time_series_count / 3)    # index of first element of time series with 50% length\n",
    "\n",
    "for (i in first_index : (second_index - 1))\n",
    "    for (j in 1 : time_series_dims) \n",
    "        x_train[i,][[j]][[1]] = x_train[i,][[j]][[1]][0 : (time_series_length - 1)]\n",
    "        \n",
    "for (i in second_index : (third_index - 1))\n",
    "    for (j in 1 : time_series_dims) \n",
    "        x_train[i,][[j]][[1]] = x_train[i,][[j]][[1]][0 : (ceiling(3 * time_series_length / 4) - 1)]\n",
    "\n",
    "for (i in third_index : time_series_count)\n",
    "    for (j in 1 : time_series_dims) \n",
    "        x_train[i,][[j]][[1]] = x_train[i,][[j]][[1]][0 : (ceiling(time_series_length / 2) - 1)]"
   ]
  },
  {
   "cell_type": "markdown",
   "id": "866165d8",
   "metadata": {},
   "source": [
    "# ROCKET "
   ]
  },
  {
   "cell_type": "markdown",
   "id": "0f54b0f9",
   "metadata": {},
   "source": [
    "### Standarize time series length by repeating observations"
   ]
  },
  {
   "cell_type": "code",
   "execution_count": 21,
   "id": "bd3a682c",
   "metadata": {},
   "outputs": [],
   "source": [
    "max_time_series_length = max(lengths(x_train[[1]]))\n",
    "\n",
    "\n",
    "\n",
    "\n"
   ]
  },
  {
   "cell_type": "code",
   "execution_count": null,
   "id": "3106178c",
   "metadata": {},
   "outputs": [],
   "source": []
  }
 ],
 "metadata": {
  "kernelspec": {
   "display_name": "R",
   "language": "R",
   "name": "ir"
  },
  "language_info": {
   "codemirror_mode": "r",
   "file_extension": ".r",
   "mimetype": "text/x-r-source",
   "name": "R",
   "pygments_lexer": "r",
   "version": "4.1.2"
  }
 },
 "nbformat": 4,
 "nbformat_minor": 5
}
