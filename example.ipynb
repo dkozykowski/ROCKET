{
 "cells": [
  {
   "cell_type": "markdown",
   "id": "2a767542",
   "metadata": {},
   "source": [
    "# Load dependencies"
   ]
  },
  {
   "cell_type": "markdown",
   "id": "abd08493",
   "metadata": {},
   "source": [
    "#### Load rocket code"
   ]
  },
  {
   "cell_type": "code",
   "execution_count": null,
   "id": "88c39f2e",
   "metadata": {},
   "outputs": [],
   "source": [
    "source(\"rocket.R\")"
   ]
  },
  {
   "cell_type": "markdown",
   "id": "78caf641",
   "metadata": {},
   "source": [
    "#### Load libraries"
   ]
  },
  {
   "cell_type": "code",
   "execution_count": null,
   "id": "211ade71",
   "metadata": {},
   "outputs": [],
   "source": [
    "library(reticulate)"
   ]
  },
  {
   "cell_type": "code",
   "execution_count": null,
   "id": "aa3b5859",
   "metadata": {},
   "outputs": [],
   "source": [
    "data_io <- import(\"sktime.datasets._data_io\")"
   ]
  },
  {
   "cell_type": "markdown",
   "id": "e014db57",
   "metadata": {},
   "source": [
    "# Define function to load the dataset"
   ]
  },
  {
   "cell_type": "code",
   "execution_count": null,
   "id": "92973652",
   "metadata": {},
   "outputs": [],
   "source": [
    "dataset_dir_path = file.path(getwd(), \"datasets\")\n",
    "\n",
    "load_dataset <- function(dataset_name, type) {\n",
    "    file_name = paste(dataset_name, \"_\", type, \".arff\", sep=\"\")\n",
    "    \n",
    "    dataset_path = file.path(dataset_dir_path, dataset_name, file_name)\n",
    "    data = data_io$load_from_arff_to_dataframe(dataset_path, \"nested_univ\")\n",
    "}"
   ]
  },
  {
   "cell_type": "markdown",
   "id": "58f340a6",
   "metadata": {},
   "source": [
    "# Test solution"
   ]
  },
  {
   "cell_type": "markdown",
   "id": "3262301c",
   "metadata": {},
   "source": [
    "### Example 1 - [BasicMotions](https://timeseriesclassification.com/description.php?Dataset=BasicMotions) with some data removed "
   ]
  },
  {
   "cell_type": "markdown",
   "id": "3f856735",
   "metadata": {},
   "source": [
    "### Data preparing"
   ]
  },
  {
   "cell_type": "code",
   "execution_count": null,
   "id": "0d747dfb",
   "metadata": {},
   "outputs": [],
   "source": [
    "dataset_name = \"BasicMotions\"\n",
    "\n",
    "data = load_dataset(dataset_name, \"TRAIN\")\n",
    "\n",
    "x_train = data[[1]]\n",
    "y_train = data[[2]]"
   ]
  },
  {
   "cell_type": "markdown",
   "id": "bad08f5e",
   "metadata": {},
   "source": [
    "#### Truncate some of the time series in order to complicate the problem\n",
    "\n",
    "- 33.(3)% of sequences left at 50% length\n",
    "- 33.(3)% of sequences truncated to 40% length\n",
    "- 33.(3)% of sequences truncated to 30% length"
   ]
  },
  {
   "cell_type": "code",
   "execution_count": null,
   "id": "c323c57e",
   "metadata": {},
   "outputs": [],
   "source": [
    "truncate_time_serie <- function(time_serie, coefficient) {\n",
    "    time_serie_length = length(time_serie[[1]][[1]])\n",
    "    time_serie_dims = length(time_serie)\n",
    "    \n",
    "    number_of_samples = ceiling(coefficient * time_serie_length / 100) - 2 # upper and lower bound must be added manually\n",
    "    \n",
    "    mask = sort(c(0,\n",
    "                  time_serie_length - 1,\n",
    "                  sample(1 : (time_serie_length - 2), number_of_samples)))\n",
    "\n",
    "    for (j in 1 : time_serie_dims)\n",
    "        time_serie[[j]][[1]] = time_serie[[j]][[1]][mask]\n",
    "    \n",
    "    return(time_serie)\n",
    "}"
   ]
  },
  {
   "cell_type": "markdown",
   "id": "048792de",
   "metadata": {},
   "source": [
    "#### Stratify rows choosen for truncating in order to ensure, that all classes will have the same amount of members truncated to specific length"
   ]
  },
  {
   "cell_type": "code",
   "execution_count": null,
   "id": "30312130",
   "metadata": {
    "scrolled": false
   },
   "outputs": [],
   "source": [
    "original_length = length(x_train[1,][[1]][[1]]) # save the original time series length\n",
    "\n",
    "for (class in unique(y_train)) {\n",
    "    indexes = which(y_train == class)\n",
    "    \n",
    "    for (i in 1 : length(indexes)) {\n",
    "        if (indexes[i] == 1) next\n",
    "        if (i <= length(indexes) / 3) {\n",
    "            x_train[indexes[i],] = truncate_time_serie(x_train[indexes[i],], 50)\n",
    "        }\n",
    "        else if (i <= 2 * length(indexes) / 3) {\n",
    "            x_train[indexes[i],] = truncate_time_serie(x_train[indexes[i],], 40)\n",
    "        }\n",
    "        else {\n",
    "            x_train[indexes[i],] = truncate_time_serie(x_train[indexes[i],], 30)\n",
    "        }\n",
    "    }\n",
    "}"
   ]
  },
  {
   "cell_type": "markdown",
   "id": "7768e28a",
   "metadata": {},
   "source": [
    "### Solution"
   ]
  },
  {
   "cell_type": "markdown",
   "id": "bc0ed87f",
   "metadata": {},
   "source": [
    "#### First, standarize all time series to have the same length"
   ]
  },
  {
   "cell_type": "code",
   "execution_count": null,
   "id": "2a89c85e",
   "metadata": {},
   "outputs": [],
   "source": [
    "x_train = fill_missing_data(x_train)"
   ]
  },
  {
   "cell_type": "code",
   "execution_count": null,
   "id": "e0358125",
   "metadata": {},
   "outputs": [],
   "source": [
    "kernels = generate_kernels(x_train)"
   ]
  },
  {
   "cell_type": "code",
   "execution_count": null,
   "id": "5bb7b16d",
   "metadata": {},
   "outputs": [],
   "source": [
    "x_train = apply_kernels(x_train, kernels)"
   ]
  },
  {
   "cell_type": "code",
   "execution_count": null,
   "id": "775995e3",
   "metadata": {},
   "outputs": [],
   "source": [
    "linear_model <- import(\"sklearn.linear_model\")\n",
    "\n",
    "classifier = linear_model$RidgeClassifierCV(alphas=pracma::logspace(-3, 3, 10), normalize=TRUE)\n",
    "classifier$fit(x_train, y_train)"
   ]
  },
  {
   "cell_type": "code",
   "execution_count": null,
   "id": "cee34841",
   "metadata": {},
   "outputs": [],
   "source": [
    "data = load_dataset(dataset_name, \"TEST\")\n",
    "\n",
    "x_test = data[[1]]\n",
    "y_test = data[[2]]\n",
    "\n",
    "x_test = apply_kernels(x_test, kernels)"
   ]
  },
  {
   "cell_type": "code",
   "execution_count": null,
   "id": "0465aa65",
   "metadata": {},
   "outputs": [],
   "source": [
    "classifier$score(x_test, y_test)"
   ]
  },
  {
   "cell_type": "markdown",
   "id": "fd369d1d",
   "metadata": {},
   "source": [
    "#### Result: approx. 92% accuracy"
   ]
  },
  {
   "cell_type": "markdown",
   "id": "f29b9485",
   "metadata": {},
   "source": [
    "### Example 2 - [Cricket](https://timeseriesclassification.com/description.php?Dataset=Cricket)"
   ]
  },
  {
   "cell_type": "code",
   "execution_count": null,
   "id": "b69af482",
   "metadata": {},
   "outputs": [],
   "source": [
    "dataset_name = \"Cricket\"\n",
    "\n",
    "data = load_dataset(dataset_name, \"TRAIN\")\n",
    "\n",
    "x_train = data[[1]]\n",
    "y_train = data[[2]]"
   ]
  },
  {
   "cell_type": "code",
   "execution_count": null,
   "id": "706ff4f9",
   "metadata": {},
   "outputs": [],
   "source": [
    "kernels = generate_kernels(x_train)"
   ]
  },
  {
   "cell_type": "code",
   "execution_count": null,
   "id": "c346fa35",
   "metadata": {},
   "outputs": [],
   "source": [
    "x_train = apply_kernels(x_train, kernels)"
   ]
  },
  {
   "cell_type": "code",
   "execution_count": null,
   "id": "1e3f39d4",
   "metadata": {},
   "outputs": [],
   "source": [
    "linear_model <- import(\"sklearn.linear_model\")\n",
    "\n",
    "classifier = linear_model$RidgeClassifierCV(alphas=pracma::logspace(-3, 3, 10), normalize=TRUE)\n",
    "classifier$fit(x_train, y_train)"
   ]
  },
  {
   "cell_type": "code",
   "execution_count": null,
   "id": "2d7f2aa7",
   "metadata": {},
   "outputs": [],
   "source": [
    "data = load_dataset(dataset_name, \"TEST\")\n",
    "\n",
    "x_test = data[[1]]\n",
    "y_test = data[[2]]\n",
    "\n",
    "x_test = apply_kernels(x_test, kernels)"
   ]
  },
  {
   "cell_type": "code",
   "execution_count": null,
   "id": "a0d559eb",
   "metadata": {},
   "outputs": [],
   "source": [
    "classifier$score(x_test, y_test)"
   ]
  },
  {
   "cell_type": "markdown",
   "id": "44f68278",
   "metadata": {},
   "source": [
    "#### Result: approx. 95% accuracy"
   ]
  },
  {
   "cell_type": "markdown",
   "id": "9e7e32dd",
   "metadata": {},
   "source": [
    "### Example 3 - [RacketSports](https://timeseriesclassification.com/description.php?Dataset=RacketSports)"
   ]
  },
  {
   "cell_type": "code",
   "execution_count": null,
   "id": "c0329914",
   "metadata": {},
   "outputs": [],
   "source": [
    "dataset_name = \"RacketSports\"\n",
    "\n",
    "data = load_dataset(dataset_name, \"TRAIN\")\n",
    "\n",
    "x_train = data[[1]]\n",
    "y_train = data[[2]]"
   ]
  },
  {
   "cell_type": "code",
   "execution_count": null,
   "id": "60328619",
   "metadata": {},
   "outputs": [],
   "source": [
    "kernels = generate_kernels(x_train)"
   ]
  },
  {
   "cell_type": "code",
   "execution_count": null,
   "id": "c0d8e85c",
   "metadata": {},
   "outputs": [],
   "source": [
    "x_train = apply_kernels(x_train, kernels)"
   ]
  },
  {
   "cell_type": "code",
   "execution_count": null,
   "id": "0de2718b",
   "metadata": {},
   "outputs": [],
   "source": [
    "linear_model <- import(\"sklearn.linear_model\")\n",
    "\n",
    "classifier = linear_model$RidgeClassifierCV(alphas=pracma::logspace(-3, 3, 10), normalize=TRUE)\n",
    "classifier$fit(x_train, y_train)"
   ]
  },
  {
   "cell_type": "code",
   "execution_count": null,
   "id": "7623dfcc",
   "metadata": {},
   "outputs": [],
   "source": [
    "data = load_dataset(dataset_name, \"TEST\")\n",
    "\n",
    "x_test = data[[1]]\n",
    "y_test = data[[2]]\n",
    "\n",
    "x_test = apply_kernels(x_test, kernels)"
   ]
  },
  {
   "cell_type": "code",
   "execution_count": null,
   "id": "efddf0a4",
   "metadata": {},
   "outputs": [],
   "source": [
    "classifier$score(x_test, y_test)"
   ]
  },
  {
   "cell_type": "markdown",
   "id": "c564a960",
   "metadata": {},
   "source": [
    "#### Result: approx. 80% accuracy"
   ]
  }
 ],
 "metadata": {
  "kernelspec": {
   "display_name": "R",
   "language": "R",
   "name": "ir"
  },
  "language_info": {
   "codemirror_mode": "r",
   "file_extension": ".r",
   "mimetype": "text/x-r-source",
   "name": "R",
   "pygments_lexer": "r",
   "version": "4.1.2"
  }
 },
 "nbformat": 4,
 "nbformat_minor": 5
}
